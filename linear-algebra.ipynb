{
 "cells": [
  {
   "cell_type": "markdown",
   "metadata": {},
   "source": [
    "# Linear Algebra \n",
    "---\n"
   ]
  },
  {
   "cell_type": "markdown",
   "metadata": {},
   "source": [
    "## Matrix Multiplication"
   ]
  },
  {
   "cell_type": "code",
   "execution_count": 9,
   "metadata": {},
   "outputs": [
    {
     "name": "stdout",
     "output_type": "stream",
     "text": [
      "[[2.00000000e+000 2.00000000e+000 1.69121096e-306]\n",
      " [5.00000000e+000 5.00000000e+000 7.56571288e-307]]\n"
     ]
    }
   ],
   "source": [
    "import numpy as np\n",
    "\n",
    "def dot_product(a, b):\n",
    "\n",
    "    if len(a) != len(b):\n",
    "        raise ValueError(\"Length of arrays don't match\")\n",
    "    dot_product = 0\n",
    "    for i in range(len(a)):\n",
    "        dot_product += a[i] * b[i]\n",
    "\n",
    "    return dot_product\n",
    "\n",
    "\n",
    "def matrix_multiply(A, B):\n",
    "    A = np.array(A)\n",
    "    B = np.array(B)\n",
    "    shape_a = A.shape\n",
    "    shape_b = B.shape\n",
    "    # check if the number of columns in A is equal to the number of rows in B\n",
    "    if shape_a[1] != shape_b[0]:\n",
    "        raise ValueError(f\"Incompatible dimensions for matrix multiplication: \"\n",
    "                         f\"Matrix A is {shape_a[0]}x{shape_a[1]}, Matrix B is {shape_b[0]}x{shape_b[1]}.\")\n",
    "    \n",
    "    new_matrix = np.empty((shape_a[0], shape_a[1]))\n",
    "\n",
    "    for i in range(shape_a[0]):\n",
    "        for j in range(shape_b[1]):\n",
    "            new_matrix[i,j] = dot_product(A[i,:], B[:,i])\n",
    "\n",
    "    return new_matrix\n",
    "\n",
    "\n",
    "A = np.array([[1, 2, 3], [3, 2, 1]])\n",
    "B = np.array([[0,2], [1, -1], [0,1]])\n",
    "\n",
    "new_matrix = matrix_multiply(A,B)\n",
    "print(new_matrix)"
   ]
  },
  {
   "cell_type": "code",
   "execution_count": 1,
   "metadata": {},
   "outputs": [
    {
     "data": {
      "text/plain": [
       "3"
      ]
     },
     "execution_count": 1,
     "metadata": {},
     "output_type": "execute_result"
    }
   ],
   "source": []
  }
 ],
 "metadata": {
  "kernelspec": {
   "display_name": "comp",
   "language": "python",
   "name": "python3"
  },
  "language_info": {
   "codemirror_mode": {
    "name": "ipython",
    "version": 3
   },
   "file_extension": ".py",
   "mimetype": "text/x-python",
   "name": "python",
   "nbconvert_exporter": "python",
   "pygments_lexer": "ipython3",
   "version": "3.10.9"
  }
 },
 "nbformat": 4,
 "nbformat_minor": 2
}
